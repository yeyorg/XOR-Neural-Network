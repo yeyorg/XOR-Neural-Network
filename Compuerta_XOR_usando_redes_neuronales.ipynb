{
  "nbformat": 4,
  "nbformat_minor": 0,
  "metadata": {
    "colab": {
      "name": "Compuerta_XOR usando redes neuronales",
      "provenance": [],
      "authorship_tag": "ABX9TyMQ1kzIncdxR7yUdm/h9uBu",
      "include_colab_link": true
    },
    "kernelspec": {
      "name": "python3",
      "display_name": "Python 3"
    },
    "language_info": {
      "name": "python"
    }
  },
  "cells": [
    {
      "cell_type": "markdown",
      "metadata": {
        "id": "view-in-github",
        "colab_type": "text"
      },
      "source": [
        "<a href=\"https://colab.research.google.com/github/yeyorg/XOR-Neural-Network/blob/main/Compuerta_XOR_usando_redes_neuronales.ipynb\" target=\"_parent\"><img src=\"https://colab.research.google.com/assets/colab-badge.svg\" alt=\"Open In Colab\"/></a>"
      ]
    },
    {
      "cell_type": "markdown",
      "metadata": {
        "id": "THOPFCoVboqm"
      },
      "source": [
        "# **Librerias**"
      ]
    },
    {
      "cell_type": "code",
      "metadata": {
        "id": "eTvNvIOgM89x"
      },
      "source": [
        "import numpy as np\n",
        "import matplotlib.pyplot as plt\n",
        "from tensorflow.keras.layers import Dense\n",
        "from tensorflow.keras.models import Sequential\n",
        "import tensorflow as tf "
      ],
      "execution_count": 1,
      "outputs": []
    },
    {
      "cell_type": "markdown",
      "metadata": {
        "id": "XS7PquLtbEzg"
      },
      "source": [
        "# Datos"
      ]
    },
    {
      "cell_type": "markdown",
      "metadata": {
        "id": "52tMF-bFMlet"
      },
      "source": [
        "## Datos de entrenamiento para compuerta **XOR**\n",
        "\n",
        "\n",
        "<table align=\"left\">\n",
        "  <tr>\n",
        "    <th>X1</th>\n",
        "    <th>X2</th>\n",
        "    <th>D</th>\n",
        "  </tr>\n",
        "  <tr>\n",
        "    <th>0</th>\n",
        "    <th>0</th>\n",
        "    <th>0</th>\n",
        "  </tr>\n",
        "    <tr>\n",
        "    <th>0</th>\n",
        "    <th>1</th>\n",
        "    <th>1</th>\n",
        "  </tr>\n",
        "  <tr>\n",
        "    <th>1</th>\n",
        "    <th>0</th>\n",
        "    <th>1</th>\n",
        "  </tr>\n",
        "  <tr>\n",
        "    <th>1</th>\n",
        "    <th>1</th>\n",
        "    <th>0</th>\n",
        "  </tr>\n",
        "</table>"
      ]
    },
    {
      "cell_type": "code",
      "metadata": {
        "colab": {
          "base_uri": "https://localhost:8080/"
        },
        "id": "AYc3xQ1UCIkq",
        "outputId": "8200074b-1398-4154-99f9-625314332cea"
      },
      "source": [
        "x_train = np.array([  [0,0],  [0,1],  [1,0],  [1,1] ])\n",
        "print(x_train)\n",
        "y_train = np.array([0,1,1,0])\n",
        "print(y_train)"
      ],
      "execution_count": 2,
      "outputs": [
        {
          "output_type": "stream",
          "text": [
            "[[0 0]\n",
            " [0 1]\n",
            " [1 0]\n",
            " [1 1]]\n",
            "[0 1 1 0]\n"
          ],
          "name": "stdout"
        }
      ]
    },
    {
      "cell_type": "markdown",
      "metadata": {
        "id": "f6ZoWHBGM82s"
      },
      "source": [
        "#Definir las redes"
      ]
    },
    {
      "cell_type": "markdown",
      "metadata": {
        "id": "MXNBIJv4dy-n"
      },
      "source": [
        "## Definir el red **ADALINE**\n"
      ]
    },
    {
      "cell_type": "code",
      "metadata": {
        "id": "pA-3aPTZd40-"
      },
      "source": [
        "def Sequential_model_ADALINE(learningRate):\n",
        "  model_ADALINE = Sequential()\n",
        "  model_ADALINE.add(Dense(1, input_shape=x_train.shape, activation='relu'))  \n",
        "\n",
        "  opt = tf.keras.optimizers.Adam(learning_rate=learningRate) \n",
        "  model_ADALINE.compile(loss = 'mean_squared_error', optimizer=opt, metrics=['accuracy'])\n",
        "\n",
        "  return model_ADALINE"
      ],
      "execution_count": 3,
      "outputs": []
    },
    {
      "cell_type": "markdown",
      "metadata": {
        "id": "fGOJOFZwM6Sw"
      },
      "source": [
        "##Definir la red **Superficial**"
      ]
    },
    {
      "cell_type": "code",
      "metadata": {
        "id": "cauCciedNMD1"
      },
      "source": [
        "def Sequential_model_superficial(learningRate):\n",
        "  model_superficial = Sequential()\n",
        "  model_superficial.add(Dense(10, input_shape=x_train.shape, activation='relu'))  #Capa oculta\n",
        "  model_superficial.add(Dense(1, activation='sigmoid'))  #Capa de salida\n",
        "\n",
        "  opt = tf.keras.optimizers.Adam(learning_rate=learningRate) \n",
        "  model_superficial.compile(loss = 'mean_squared_error', optimizer=opt, metrics=['accuracy'])\n",
        "\n",
        "  return model_superficial"
      ],
      "execution_count": 4,
      "outputs": []
    },
    {
      "cell_type": "markdown",
      "metadata": {
        "id": "O_9AkpxxOUOT"
      },
      "source": [
        "# Red **ADALINE** learning rate = 0.01"
      ]
    },
    {
      "cell_type": "code",
      "metadata": {
        "id": "hDPcK6WdA95C"
      },
      "source": [
        "model_ADALINE_001 = 0\n",
        "model_ADALINE_001 = Sequential_model_ADALINE(0.01)"
      ],
      "execution_count": 5,
      "outputs": []
    },
    {
      "cell_type": "markdown",
      "metadata": {
        "id": "aiiSkf5EVqz8"
      },
      "source": [
        "##  Entrenamiento 500 epocas"
      ]
    },
    {
      "cell_type": "code",
      "metadata": {
        "id": "0lq8B0CfVpSo"
      },
      "source": [
        "history =model_ADALINE_001.fit(x_train, y_train, epochs=500, verbose=2)\n",
        "result_ADALINE_001 = model_ADALINE_001.predict(x_train)"
      ],
      "execution_count": null,
      "outputs": []
    },
    {
      "cell_type": "markdown",
      "metadata": {
        "id": "LFSo2_d-bifS"
      },
      "source": [
        "# Resultados red **ADALINE** learning rate = 0.01\n",
        "# 500 epocas"
      ]
    },
    {
      "cell_type": "code",
      "metadata": {
        "colab": {
          "base_uri": "https://localhost:8080/"
        },
        "id": "BhGoTQWtb3ME",
        "outputId": "708be025-034f-41ca-9b2c-e0ed9ffe4b7f"
      },
      "source": [
        "print(np.int8(result_ADALINE_001>0.5))"
      ],
      "execution_count": 7,
      "outputs": [
        {
          "output_type": "stream",
          "text": [
            "[[0]\n",
            " [1]\n",
            " [0]\n",
            " [0]]\n"
          ],
          "name": "stdout"
        }
      ]
    },
    {
      "cell_type": "markdown",
      "metadata": {
        "id": "2U5Cjxn5UtUX"
      },
      "source": [
        "# Red **ADALINE** learning rate = 0.001"
      ]
    },
    {
      "cell_type": "code",
      "metadata": {
        "id": "WQsUDyCIU5Ol"
      },
      "source": [
        "model_ADALINE_0001 = 0\n",
        "model_ADALINE_0001 = Sequential_model_ADALINE(0.001)"
      ],
      "execution_count": 8,
      "outputs": []
    },
    {
      "cell_type": "markdown",
      "metadata": {
        "id": "CWKZM-Z2NqLj"
      },
      "source": [
        "## Entrenamiento"
      ]
    },
    {
      "cell_type": "code",
      "metadata": {
        "id": "OJHc-1hzNvkB"
      },
      "source": [
        "history = model_ADALINE_0001.fit(x_train, y_train, epochs=1400, verbose=2)\n",
        "result_ADALINE_0001 = model_ADALINE_0001.predict(x_train)"
      ],
      "execution_count": null,
      "outputs": []
    },
    {
      "cell_type": "markdown",
      "metadata": {
        "id": "xH1wRbl6NvxY"
      },
      "source": [
        "# Resultados red **ADALINE** learning rate = 0.001\n",
        "# 1400 Epocas"
      ]
    },
    {
      "cell_type": "code",
      "metadata": {
        "colab": {
          "base_uri": "https://localhost:8080/"
        },
        "id": "xghNTFp1N0yX",
        "outputId": "5b98d583-26c2-4fb9-a368-871f47e04518"
      },
      "source": [
        "print(np.int8(result_ADALINE_0001>0.5))"
      ],
      "execution_count": 10,
      "outputs": [
        {
          "output_type": "stream",
          "text": [
            "[[0]\n",
            " [1]\n",
            " [0]\n",
            " [0]]\n"
          ],
          "name": "stdout"
        }
      ]
    },
    {
      "cell_type": "markdown",
      "metadata": {
        "id": "cxxWeU_ISihZ"
      },
      "source": [
        "# Red **ADALINE** learning rate = 0.0045"
      ]
    },
    {
      "cell_type": "code",
      "metadata": {
        "id": "f3YV408vSpO6"
      },
      "source": [
        "model_ADALINE_00045 = 0\n",
        "model_ADALINE_00045 = Sequential_model_ADALINE(0.0045)"
      ],
      "execution_count": 11,
      "outputs": []
    },
    {
      "cell_type": "markdown",
      "metadata": {
        "id": "IKNeZVQPSuWG"
      },
      "source": [
        "## Entrenamiento"
      ]
    },
    {
      "cell_type": "code",
      "metadata": {
        "id": "COAsSfV3Swtd"
      },
      "source": [
        "history = model_ADALINE_00045.fit(x_train, y_train, epochs=1000, verbose=2)\n",
        "result_ADALINE_00045 = model_ADALINE_00045.predict(x_train)"
      ],
      "execution_count": null,
      "outputs": []
    },
    {
      "cell_type": "markdown",
      "metadata": {
        "id": "Zo4NAjTKT9pS"
      },
      "source": [
        "# Resultados red **ADALINE** learning rate = 0.0045\n",
        "# 1000 Epocas"
      ]
    },
    {
      "cell_type": "code",
      "metadata": {
        "colab": {
          "base_uri": "https://localhost:8080/"
        },
        "id": "apTWLHxHUW4N",
        "outputId": "639de117-cd09-4451-976c-e973499d646c"
      },
      "source": [
        "print(np.int8(result_ADALINE_00045>0.5))"
      ],
      "execution_count": 13,
      "outputs": [
        {
          "output_type": "stream",
          "text": [
            "[[0]\n",
            " [0]\n",
            " [1]\n",
            " [1]]\n"
          ],
          "name": "stdout"
        }
      ]
    },
    {
      "cell_type": "markdown",
      "metadata": {
        "id": "2bj_LeZf-E3D"
      },
      "source": [
        "# Compilación de la red **superficial** learning rate = 0.01"
      ]
    },
    {
      "cell_type": "code",
      "metadata": {
        "id": "nRcL6Xpt-FVJ"
      },
      "source": [
        "model_superficial_001 = 0\n",
        "model_superficial_001 = Sequential_model_superficial(0.01)"
      ],
      "execution_count": 14,
      "outputs": []
    },
    {
      "cell_type": "markdown",
      "metadata": {
        "id": "IGG14PGv-QRq"
      },
      "source": [
        "##  Entrenamiento con 100 epocas"
      ]
    },
    {
      "cell_type": "code",
      "metadata": {
        "id": "pKTbGC3N-X0N"
      },
      "source": [
        "history = model_superficial_001.fit(x_train, y_train, epochs=100, verbose=2)\n",
        "result_superficial_001 = model_superficial_001.predict(x_train)"
      ],
      "execution_count": null,
      "outputs": []
    },
    {
      "cell_type": "markdown",
      "metadata": {
        "id": "imadOcwpKw5v"
      },
      "source": [
        "# Resultados red **superficial** learning rate =0.01\n",
        "# 100 epocas"
      ]
    },
    {
      "cell_type": "code",
      "metadata": {
        "colab": {
          "base_uri": "https://localhost:8080/"
        },
        "id": "vPoPwv52LNa-",
        "outputId": "9a71a367-9fd3-46b4-f4df-b65dba5ccbc7"
      },
      "source": [
        "print(np.int8(result_superficial_001>0.5))"
      ],
      "execution_count": 16,
      "outputs": [
        {
          "output_type": "stream",
          "text": [
            "[[0]\n",
            " [1]\n",
            " [1]\n",
            " [0]]\n"
          ],
          "name": "stdout"
        }
      ]
    },
    {
      "cell_type": "markdown",
      "metadata": {
        "id": "MV-qqUTrdAHQ"
      },
      "source": [
        "# Compilación de la red **superficial** learning rate = 0.001"
      ]
    },
    {
      "cell_type": "code",
      "metadata": {
        "id": "dgise2ckdHEK"
      },
      "source": [
        "model_superficial_0001 = 0\n",
        "model_superficial_0001 = Sequential_model_superficial(0.001)"
      ],
      "execution_count": 17,
      "outputs": []
    },
    {
      "cell_type": "markdown",
      "metadata": {
        "id": "6I7zhdn5dKZs"
      },
      "source": [
        "##  Entrenamiento con 400 epocas"
      ]
    },
    {
      "cell_type": "code",
      "metadata": {
        "id": "lC8CwCHGdMwE"
      },
      "source": [
        "history = model_superficial_0001.fit(x_train, y_train, epochs=400, verbose=2)\n",
        "result_superficial_0001 = model_superficial_0001.predict(x_train)"
      ],
      "execution_count": null,
      "outputs": []
    },
    {
      "cell_type": "markdown",
      "metadata": {
        "id": "UPHjEAPXdozr"
      },
      "source": [
        "# Resultados red **superficial** learning rate =0.001\n",
        "# 200 epocas"
      ]
    },
    {
      "cell_type": "code",
      "metadata": {
        "colab": {
          "base_uri": "https://localhost:8080/"
        },
        "id": "NICtKg_Wdusl",
        "outputId": "d527e29e-0fcb-42c3-c61a-818b4251db04"
      },
      "source": [
        "print(np.int8(result_superficial_0001>0.5))"
      ],
      "execution_count": 19,
      "outputs": [
        {
          "output_type": "stream",
          "text": [
            "[[0]\n",
            " [1]\n",
            " [1]\n",
            " [0]]\n"
          ],
          "name": "stdout"
        }
      ]
    },
    {
      "cell_type": "markdown",
      "metadata": {
        "id": "KuBvOOQ1ic3z"
      },
      "source": [
        "# Compilación de la red **superficial** learning rate = 0.0045"
      ]
    },
    {
      "cell_type": "code",
      "metadata": {
        "id": "hEhpCYdZihGD"
      },
      "source": [
        "model_superficial_00045 = 0\n",
        "model_superficial_00045 = Sequential_model_superficial(0.0045)"
      ],
      "execution_count": 20,
      "outputs": []
    },
    {
      "cell_type": "markdown",
      "metadata": {
        "id": "48wBEugRimUY"
      },
      "source": [
        "##  Entrenamiento con 200 epocas"
      ]
    },
    {
      "cell_type": "code",
      "metadata": {
        "id": "weiFhDkLioJx"
      },
      "source": [
        "history = model_superficial_00045.fit(x_train, y_train, epochs=200, verbose=2)\n",
        "result_superficial_00045 = model_superficial_00045.predict(x_train)"
      ],
      "execution_count": null,
      "outputs": []
    },
    {
      "cell_type": "markdown",
      "metadata": {
        "id": "M3wWAAySizYK"
      },
      "source": [
        "# Resultados red **superficial** learning rate =0.0045\n",
        "# 200 epocas"
      ]
    },
    {
      "cell_type": "code",
      "metadata": {
        "colab": {
          "base_uri": "https://localhost:8080/"
        },
        "id": "ekQLsURhi2lR",
        "outputId": "1d7b3644-b770-455d-c523-e3df4cdda6e4"
      },
      "source": [
        "print(np.int8(result_superficial_00045>0.5))"
      ],
      "execution_count": 22,
      "outputs": [
        {
          "output_type": "stream",
          "text": [
            "[[0]\n",
            " [1]\n",
            " [1]\n",
            " [0]]\n"
          ],
          "name": "stdout"
        }
      ]
    }
  ]
}